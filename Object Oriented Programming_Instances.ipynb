{
 "cells": [
  {
   "cell_type": "markdown",
   "metadata": {},
   "source": [
    "# Object Oriented Programming"
   ]
  },
  {
   "cell_type": "markdown",
   "metadata": {},
   "source": [
    "Object Oriented Programmming (OOP) is an approach for modeling concrete, real-world things like cars, people and so on.\n",
    "\n",
    "OOP models real-world entities as software objects that some data associated with them (properties) and can perform certain functions (behaviors).\n",
    "\n",
    "However, what's an object in Python?\n",
    "\n",
    "### Example 1\n",
    "An Object could represent a person with **properties** like a name, age, height and home address. It may have several **behaviors** or capabilities such as walking, talking, breathing and running. \n",
    "### Example 2\n",
    "An Object could also be an e-mail with properties like a recipient list, a subject and a body and behaviors like adding attachments and sending."
   ]
  },
  {
   "cell_type": "markdown",
   "metadata": {},
   "source": [
    "## Define a Class in Python"
   ]
  },
  {
   "cell_type": "markdown",
   "metadata": {},
   "source": [
    "Let's say we want to track all the employees in our organization. We need to store some data about them such as their name, age, position, the year they started working and so on. \n",
    "\n",
    "One way to do so is to represent each employee as a list:"
   ]
  },
  {
   "cell_type": "code",
   "execution_count": 2,
   "metadata": {},
   "outputs": [],
   "source": [
    "jane = [\"Jane Douglas\", 32, \"Project Manager\", 2014]\n",
    "alex = [\"Alex Hardy\", 39, \"Sales Manager\", 2007]\n",
    "sam = [\"Sam Jefferson\", 48, \"Chief Financial Officer\", 1998]"
   ]
  },
  {
   "cell_type": "markdown",
   "metadata": {},
   "source": [
    "However there is a more efficient way to do it. And that is via **Classes**.\n",
    "\n",
    "Classes are used to creat user-defined data structures. Classes define functions called **methods** which identify the behaviors and functions an Object created from the Class can perform with its data.\n",
    "\n",
    "A Class is a **blueprint** for how something should be defined. For instance, the _Employee_ Class specifies that a name, an age, a position are necessary for defining an employee, but it doesn't coontain the name or age of any specific employee.\n",
    "\n",
    "While the Class is a blueprint, an **instance** is an Object that is built from a Class and contains _real data_. An instance of the _Employee_ Class is Jane Douglas.\n",
    "\n",
    "Put another way, a class is like a form or questionnaire. An instance is like a form that has been filled out with information. Just like many people can fill out the same form with their own unique information, many instances can be created from a single class."
   ]
  },
  {
   "cell_type": "markdown",
   "metadata": {},
   "source": [
    "### Defining a Class\n",
    "All Class definition start with the class keyword which is followed by the name of the class and a colon. Any indented code  below the Class definition is considered to be part of the Class's body."
   ]
  },
  {
   "cell_type": "code",
   "execution_count": 3,
   "metadata": {},
   "outputs": [],
   "source": [
    "class Employee:\n",
    "    pass # the pass keyword is used as a placeholder"
   ]
  },
  {
   "cell_type": "markdown",
   "metadata": {},
   "source": [
    "Let's assign some properties to the _Employee_ Class:"
   ]
  },
  {
   "cell_type": "code",
   "execution_count": 5,
   "metadata": {},
   "outputs": [],
   "source": [
    "class Employee: \n",
    "    def __init__(self, name, age):\n",
    "        self.name = name # name property\n",
    "        self.age = age # age propoerty"
   ]
  },
  {
   "cell_type": "markdown",
   "metadata": {},
   "source": [
    "Every time a new employee is created the method .\\_\\_init_\\_\\( ) sets the initial state of the object by assigning values to the object's properties; it initializes each new instance of the Class.\n",
    "\n",
    "## Class vs Instance attributes\n",
    "\n",
    "We can give .\\_\\_init_\\_\\( ) as many parameters as we want but the first parameter must always be a **variable** called _self_. When a new Class instance is created, the instance is automatically passed to the _self_ parameter so that new attributes can be defined on the Object."
   ]
  },
  {
   "cell_type": "markdown",
   "metadata": {},
   "source": [
    "In the body of the .\\_\\_init_\\_\\( ) method there are two statements using the _self_ variable:\n",
    "\n",
    "- **self.name = name**: creates an attribute called _name_ and assigns it the value of the _name_parameter.\n",
    "\n",
    "- **self.age = age**: creates an attribute called _age_ and assigns it the value of the _age_ parameter.\n",
    "\n",
    "Attributes created in the .\\_\\_init_\\_\\( ) method are called **instance attributes**. An instance attribute's value is specific to a particular instance of the Class; all employees have a name and age, but the values for the _name_ and _age_ attributes will vary depending on the specific Class instance.\n",
    "\n",
    "On the other hand, **class attributes** are attributes that have the same value for all the Class instances. We can assign a value to a Class attribute by assigning a value to a variable name outisde the .\\_\\_init_\\_\\( ) method.\n",
    "\n",
    "For example, we can create a _company_ Class attribute with the name of the company; since all the eployees belong to the same company the variable's value will be the same for all the instances:"
   ]
  },
  {
   "cell_type": "code",
   "execution_count": 6,
   "metadata": {},
   "outputs": [],
   "source": [
    "class Employee: \n",
    "    # Class attribute\n",
    "    company = \"Boolean Career\"\n",
    "    # Instance attributes\n",
    "    def __init__(self, name, age):\n",
    "        self.name = name # name property\n",
    "        self.age = age # age propoerty"
   ]
  },
  {
   "cell_type": "markdown",
   "metadata": {},
   "source": [
    "**Note:** Class attributes must always be assigned an initial value. When an instance of the class is created, class attributes are automatically created and assigned to their initial values.\n",
    "\n",
    "**Key Takeaway:** use class attributes to define properties that should have the same value for every class instance; use instance attributes for properties that vary from one instance to another."
   ]
  },
  {
   "cell_type": "markdown",
   "metadata": {},
   "source": [
    "## Instantiate an Object in Python\n",
    "Let's create two simple instances of the _Employee_ Class with no attributes nor methods:"
   ]
  },
  {
   "cell_type": "code",
   "execution_count": 13,
   "metadata": {},
   "outputs": [],
   "source": [
    "# create the Class\n",
    "class Employee:\n",
    "    pass"
   ]
  },
  {
   "cell_type": "code",
   "execution_count": 14,
   "metadata": {},
   "outputs": [
    {
     "data": {
      "text/plain": [
       "<__main__.Employee at 0x108469950>"
      ]
     },
     "execution_count": 14,
     "metadata": {},
     "output_type": "execute_result"
    }
   ],
   "source": [
    "# call it with two paranthesis\n",
    "Employee()"
   ]
  },
  {
   "cell_type": "markdown",
   "metadata": {},
   "source": [
    "This procedure creates a new object from a Class and is called **instantiating an object**. \n",
    "\n",
    "The string output refers to the memory address that indicates where the Class object is stored in the compurter's memory. This value will be different every time we create a new instance."
   ]
  },
  {
   "cell_type": "code",
   "execution_count": 15,
   "metadata": {},
   "outputs": [
    {
     "data": {
      "text/plain": [
       "<__main__.Employee at 0x108469290>"
      ]
     },
     "execution_count": 15,
     "metadata": {},
     "output_type": "execute_result"
    }
   ],
   "source": [
    "Employee()"
   ]
  },
  {
   "cell_type": "markdown",
   "metadata": {},
   "source": [
    "We can easily chek that every new instance is different from the previous one:"
   ]
  },
  {
   "cell_type": "code",
   "execution_count": 16,
   "metadata": {},
   "outputs": [
    {
     "data": {
      "text/plain": [
       "False"
      ]
     },
     "execution_count": 16,
     "metadata": {},
     "output_type": "execute_result"
    }
   ],
   "source": [
    "a = Employee()\n",
    "b = Employee()\n",
    "a == b"
   ]
  },
  {
   "cell_type": "markdown",
   "metadata": {},
   "source": [
    "### Instance attributes\n",
    "Let's create an instance from the _Employee_ Class defined previously with the attributes _name, age_ and _company_."
   ]
  },
  {
   "cell_type": "code",
   "execution_count": 60,
   "metadata": {},
   "outputs": [],
   "source": [
    "class Employee: \n",
    "    # Class attribute\n",
    "    company = \"Boolean Career\"\n",
    "    \n",
    "    # Instance attributes\n",
    "    def __init__(self, name, age):\n",
    "        self.name = name # name property\n",
    "        self.age = age # age propoerty"
   ]
  },
  {
   "cell_type": "markdown",
   "metadata": {},
   "source": [
    "To instantiate an object we must declare between parenthesis all the instance attributes' values:"
   ]
  },
  {
   "cell_type": "code",
   "execution_count": 61,
   "metadata": {},
   "outputs": [],
   "source": [
    "jane = Employee(\"Jane Douglas\", 32)\n",
    "alex = Employee(\"Alex Hardy\", 39)\n",
    "sam = Employee(\"Sam Jefferson\", 48)"
   ]
  },
  {
   "cell_type": "markdown",
   "metadata": {},
   "source": [
    "We have created three unique instances of the _Employee_ Class, one for Jane, one for Alex and one for Sam.\n",
    "\n",
    "**Note:** remember that the .\\_\\_init_\\_\\( ) method has three parameters, however we are passing only two arguments for each instance. This is due to the fact that when we instantiate a new Employee object, Python creates a new instance and passes it to the first parameter of .__init__(). This essentially removes the self parameter, so we only need to worry about the name and age parameters.\n",
    "\n",
    "After creating the instances we can access their instance attributes using the **dot notation**:"
   ]
  },
  {
   "cell_type": "code",
   "execution_count": 63,
   "metadata": {},
   "outputs": [
    {
     "name": "stdout",
     "output_type": "stream",
     "text": [
      "Jane Douglas is 32 years old\n",
      "Alex Hardy is 39 years old\n",
      "Sam Jefferson is 48 years old\n"
     ]
    }
   ],
   "source": [
    "print(f\"{jane.name} is {jane.age} years old\")\n",
    "print(f\"{alex.name} is {alex.age} years old\")\n",
    "print(f\"{sam.name} is {sam.age} years old\")"
   ]
  },
  {
   "cell_type": "markdown",
   "metadata": {},
   "source": [
    "We can access Class attributes the same way:"
   ]
  },
  {
   "cell_type": "code",
   "execution_count": 64,
   "metadata": {},
   "outputs": [
    {
     "name": "stdout",
     "output_type": "stream",
     "text": [
      "Jane Douglas is 32 years old and works for Boolean Career\n",
      "Alex Hardy is 39 years old and works for Boolean Career\n",
      "Sam Jefferson is 48 years old and works for Boolean Career\n"
     ]
    }
   ],
   "source": [
    "print(f\"{jane.name} is {jane.age} years old and works for {jane.company}\")\n",
    "print(f\"{alex.name} is {alex.age} years old and works for {alex.company}\")\n",
    "print(f\"{sam.name} is {sam.age} years old and works for {sam.company}\")"
   ]
  },
  {
   "cell_type": "markdown",
   "metadata": {},
   "source": [
    "Attributes (both Class's as well as instance's) can be updated:"
   ]
  },
  {
   "cell_type": "code",
   "execution_count": 65,
   "metadata": {},
   "outputs": [
    {
     "name": "stdout",
     "output_type": "stream",
     "text": [
      "Jane Douglas is 28 years old\n"
     ]
    }
   ],
   "source": [
    "jane.age = 28 # previous value was 32\n",
    "print(f\"{jane.name} is {jane.age} years old\")"
   ]
  },
  {
   "cell_type": "markdown",
   "metadata": {},
   "source": [
    "### Adding new attributes\n",
    "New instance attributes can be added outside the Class definition statement. \n",
    "\n",
    "Let's say we want to track also the role and the start working date for each employee at Boolean. We can define the attributes _role_ and _startWorkingDate_ as follows:"
   ]
  },
  {
   "cell_type": "code",
   "execution_count": 66,
   "metadata": {},
   "outputs": [],
   "source": [
    "# Defining the role and the startWorkingDate for each employee\n",
    "jane.role, jane.startWorkingDate = \"Project Manager\", 2014\n",
    "alex.role, alex.startWorkingDate = \"Sales Manager\", 2007\n",
    "sam.role, sam.startWorkingDate = \"Chief Financial Officer\", 1998"
   ]
  },
  {
   "cell_type": "code",
   "execution_count": 67,
   "metadata": {},
   "outputs": [
    {
     "name": "stdout",
     "output_type": "stream",
     "text": [
      "Jane Douglas has been working as a Project Manager since 2014\n",
      "Alex Hardy has been working as a Sales Manager since 2007\n",
      "Sam Jefferson has been working as a Chief Financial Officer since 1998\n"
     ]
    }
   ],
   "source": [
    "print(f\"{jane.name} has been working as a {jane.role} since {jane.startWorkingDate}\")\n",
    "print(f\"{alex.name} has been working as a {alex.role} since {alex.startWorkingDate}\")\n",
    "print(f\"{sam.name} has been working as a {sam.role} since {sam.startWorkingDate}\")"
   ]
  },
  {
   "cell_type": "markdown",
   "metadata": {},
   "source": [
    "### Instance methods\n",
    "**Instance methods** are functions that are defined within a Class and can only be called from an instance of that Class."
   ]
  },
  {
   "cell_type": "code",
   "execution_count": 70,
   "metadata": {},
   "outputs": [],
   "source": [
    "class Employee: \n",
    "    # Class attribute\n",
    "    company = \"Boolean Career\"\n",
    "    \n",
    "    # Instance attributes\n",
    "    def __init__(self, name, age):\n",
    "        self.name = name # name property\n",
    "        self.age = age # age propoerty\n",
    "        \n",
    "    # Instance methods\n",
    "    def presentation(self):\n",
    "        return f\"Hi, I'm {self.name} and I'm {self.age} years old\""
   ]
  },
  {
   "cell_type": "markdown",
   "metadata": {},
   "source": [
    "We have created an instance method called _presentation( )_ which return a brief presentation of each employee/Class instance containing the information about the instance attributs _name_ and _age_.\n",
    "\n",
    "Let's see it in action:"
   ]
  },
  {
   "cell_type": "code",
   "execution_count": 71,
   "metadata": {},
   "outputs": [],
   "source": [
    "jane = Employee(\"Jane Douglas\", 28)"
   ]
  },
  {
   "cell_type": "code",
   "execution_count": 35,
   "metadata": {},
   "outputs": [
    {
     "data": {
      "text/plain": [
       "\"Hi, I'm Jane Douglas and I'm 28 years old\""
      ]
     },
     "execution_count": 35,
     "metadata": {},
     "output_type": "execute_result"
    }
   ],
   "source": [
    "jane.presentation()"
   ]
  },
  {
   "cell_type": "markdown",
   "metadata": {},
   "source": [
    "We have seen before that when we print an instance the result we get is the memory address telling us where in the computer that instance is stored, but actually that piece of information is not much insightful. We can change it in order to get instantly the most relevant information about every object by defining in the Class statement the .\\_\\_str_\\_\\( ) method."
   ]
  },
  {
   "cell_type": "code",
   "execution_count": 59,
   "metadata": {},
   "outputs": [],
   "source": [
    "class Employee: \n",
    "    # Class attribute\n",
    "    company = \"Boolean Career\"\n",
    "    \n",
    "    # Instance attributes\n",
    "    def __init__(self, name, age):\n",
    "        self.name = name # name property\n",
    "        self.age = age # age propoerty\n",
    "        \n",
    "    # Instance methods\n",
    "    def presentation(self):\n",
    "        return f\"Hi, I'm {self.name} and I'm {self.age} years old\"\n",
    "    \n",
    "    def __str__(self):\n",
    "        return f\"This instance is {self.age} years old and is called {self.name}\""
   ]
  },
  {
   "cell_type": "code",
   "execution_count": 41,
   "metadata": {},
   "outputs": [
    {
     "name": "stdout",
     "output_type": "stream",
     "text": [
      "This instance is 28 years old and is called Jane Douglas\n"
     ]
    }
   ],
   "source": [
    "jane = Employee(\"Jane Douglas\", 28)\n",
    "print(jane)"
   ]
  },
  {
   "cell_type": "markdown",
   "metadata": {},
   "source": [
    "We can give the .\\_\\_str_\\_\\( ) method whatever piece of information we want, so that when we print the instance we instanlty get the most meaningful information about it.\n",
    "\n",
    "**Note:** methods like .\\_\\_init_\\_\\( ) and .\\_\\_str_\\_\\( ) are called **dunder methods** because they begin and end with double underscores."
   ]
  },
  {
   "cell_type": "code",
   "execution_count": null,
   "metadata": {},
   "outputs": [],
   "source": []
  }
 ],
 "metadata": {
  "kernelspec": {
   "display_name": "Python 3",
   "language": "python",
   "name": "python3"
  },
  "language_info": {
   "codemirror_mode": {
    "name": "ipython",
    "version": 3
   },
   "file_extension": ".py",
   "mimetype": "text/x-python",
   "name": "python",
   "nbconvert_exporter": "python",
   "pygments_lexer": "ipython3",
   "version": "3.7.6"
  }
 },
 "nbformat": 4,
 "nbformat_minor": 4
}
